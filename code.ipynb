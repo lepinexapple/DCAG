{
 "cells": [
  {
   "cell_type": "code",
   "execution_count": 38,
   "id": "93fbf134",
   "metadata": {},
   "outputs": [],
   "source": [
    "import pandas as pd"
   ]
  },
  {
   "cell_type": "code",
   "execution_count": 39,
   "id": "bd13c49f",
   "metadata": {},
   "outputs": [],
   "source": [
    "salary_data = pd.read_csv(\"Salary_Data.csv\")"
   ]
  },
  {
   "cell_type": "code",
   "execution_count": 40,
   "id": "ff494d71",
   "metadata": {},
   "outputs": [
    {
     "data": {
      "text/html": [
       "<div>\n",
       "<style scoped>\n",
       "    .dataframe tbody tr th:only-of-type {\n",
       "        vertical-align: middle;\n",
       "    }\n",
       "\n",
       "    .dataframe tbody tr th {\n",
       "        vertical-align: top;\n",
       "    }\n",
       "\n",
       "    .dataframe thead th {\n",
       "        text-align: right;\n",
       "    }\n",
       "</style>\n",
       "<table border=\"1\" class=\"dataframe\">\n",
       "  <thead>\n",
       "    <tr style=\"text-align: right;\">\n",
       "      <th></th>\n",
       "      <th>Age</th>\n",
       "      <th>Gender</th>\n",
       "      <th>Education Level</th>\n",
       "      <th>Job Title</th>\n",
       "      <th>Years of Experience</th>\n",
       "      <th>Salary</th>\n",
       "    </tr>\n",
       "  </thead>\n",
       "  <tbody>\n",
       "    <tr>\n",
       "      <th>0</th>\n",
       "      <td>32.0</td>\n",
       "      <td>Male</td>\n",
       "      <td>Bachelor's</td>\n",
       "      <td>Software Engineer</td>\n",
       "      <td>5.0</td>\n",
       "      <td>90000.0</td>\n",
       "    </tr>\n",
       "    <tr>\n",
       "      <th>1</th>\n",
       "      <td>28.0</td>\n",
       "      <td>Female</td>\n",
       "      <td>Master's</td>\n",
       "      <td>Data Analyst</td>\n",
       "      <td>3.0</td>\n",
       "      <td>65000.0</td>\n",
       "    </tr>\n",
       "    <tr>\n",
       "      <th>2</th>\n",
       "      <td>45.0</td>\n",
       "      <td>Male</td>\n",
       "      <td>PhD</td>\n",
       "      <td>Senior Manager</td>\n",
       "      <td>15.0</td>\n",
       "      <td>150000.0</td>\n",
       "    </tr>\n",
       "    <tr>\n",
       "      <th>3</th>\n",
       "      <td>36.0</td>\n",
       "      <td>Female</td>\n",
       "      <td>Bachelor's</td>\n",
       "      <td>Sales Associate</td>\n",
       "      <td>7.0</td>\n",
       "      <td>60000.0</td>\n",
       "    </tr>\n",
       "    <tr>\n",
       "      <th>4</th>\n",
       "      <td>52.0</td>\n",
       "      <td>Male</td>\n",
       "      <td>Master's</td>\n",
       "      <td>Director</td>\n",
       "      <td>20.0</td>\n",
       "      <td>200000.0</td>\n",
       "    </tr>\n",
       "  </tbody>\n",
       "</table>\n",
       "</div>"
      ],
      "text/plain": [
       "    Age  Gender Education Level          Job Title  Years of Experience  \\\n",
       "0  32.0    Male      Bachelor's  Software Engineer                  5.0   \n",
       "1  28.0  Female        Master's       Data Analyst                  3.0   \n",
       "2  45.0    Male             PhD     Senior Manager                 15.0   \n",
       "3  36.0  Female      Bachelor's    Sales Associate                  7.0   \n",
       "4  52.0    Male        Master's           Director                 20.0   \n",
       "\n",
       "     Salary  \n",
       "0   90000.0  \n",
       "1   65000.0  \n",
       "2  150000.0  \n",
       "3   60000.0  \n",
       "4  200000.0  "
      ]
     },
     "execution_count": 40,
     "metadata": {},
     "output_type": "execute_result"
    }
   ],
   "source": [
    "salary_data.head()"
   ]
  },
  {
   "cell_type": "code",
   "execution_count": 41,
   "id": "96b1f159",
   "metadata": {},
   "outputs": [],
   "source": [
    "salary_data[\"Gender\"] = salary_data[\"Gender\"].map({\"Male\": \"M\", \"Female\": \"F\"})"
   ]
  },
  {
   "cell_type": "code",
   "execution_count": 42,
   "id": "695899de",
   "metadata": {},
   "outputs": [
    {
     "data": {
      "text/plain": [
       "Index(['Age', 'Gender', 'Education Level', 'Job Title', 'Years of Experience',\n",
       "       'Salary'],\n",
       "      dtype='object')"
      ]
     },
     "execution_count": 42,
     "metadata": {},
     "output_type": "execute_result"
    }
   ],
   "source": [
    "salary_data.columns"
   ]
  },
  {
   "cell_type": "code",
   "execution_count": 43,
   "id": "5d98ce61",
   "metadata": {},
   "outputs": [
    {
     "data": {
      "text/plain": [
       "(6704, 6)"
      ]
     },
     "execution_count": 43,
     "metadata": {},
     "output_type": "execute_result"
    }
   ],
   "source": [
    "salary_data.shape"
   ]
  },
  {
   "cell_type": "code",
   "execution_count": 44,
   "id": "24e931f0",
   "metadata": {},
   "outputs": [],
   "source": [
    "salary_data.drop('Age', axis=1, inplace=True)"
   ]
  },
  {
   "cell_type": "code",
   "execution_count": 45,
   "id": "70fb86b6",
   "metadata": {},
   "outputs": [
    {
     "data": {
      "text/html": [
       "<div>\n",
       "<style scoped>\n",
       "    .dataframe tbody tr th:only-of-type {\n",
       "        vertical-align: middle;\n",
       "    }\n",
       "\n",
       "    .dataframe tbody tr th {\n",
       "        vertical-align: top;\n",
       "    }\n",
       "\n",
       "    .dataframe thead th {\n",
       "        text-align: right;\n",
       "    }\n",
       "</style>\n",
       "<table border=\"1\" class=\"dataframe\">\n",
       "  <thead>\n",
       "    <tr style=\"text-align: right;\">\n",
       "      <th></th>\n",
       "      <th>Gender</th>\n",
       "      <th>Education Level</th>\n",
       "      <th>Job Title</th>\n",
       "      <th>Years of Experience</th>\n",
       "      <th>Salary</th>\n",
       "    </tr>\n",
       "  </thead>\n",
       "  <tbody>\n",
       "    <tr>\n",
       "      <th>0</th>\n",
       "      <td>M</td>\n",
       "      <td>Bachelor's</td>\n",
       "      <td>Software Engineer</td>\n",
       "      <td>5.0</td>\n",
       "      <td>90000.0</td>\n",
       "    </tr>\n",
       "    <tr>\n",
       "      <th>1</th>\n",
       "      <td>F</td>\n",
       "      <td>Master's</td>\n",
       "      <td>Data Analyst</td>\n",
       "      <td>3.0</td>\n",
       "      <td>65000.0</td>\n",
       "    </tr>\n",
       "    <tr>\n",
       "      <th>2</th>\n",
       "      <td>M</td>\n",
       "      <td>PhD</td>\n",
       "      <td>Senior Manager</td>\n",
       "      <td>15.0</td>\n",
       "      <td>150000.0</td>\n",
       "    </tr>\n",
       "    <tr>\n",
       "      <th>3</th>\n",
       "      <td>F</td>\n",
       "      <td>Bachelor's</td>\n",
       "      <td>Sales Associate</td>\n",
       "      <td>7.0</td>\n",
       "      <td>60000.0</td>\n",
       "    </tr>\n",
       "    <tr>\n",
       "      <th>4</th>\n",
       "      <td>M</td>\n",
       "      <td>Master's</td>\n",
       "      <td>Director</td>\n",
       "      <td>20.0</td>\n",
       "      <td>200000.0</td>\n",
       "    </tr>\n",
       "  </tbody>\n",
       "</table>\n",
       "</div>"
      ],
      "text/plain": [
       "  Gender Education Level          Job Title  Years of Experience    Salary\n",
       "0      M      Bachelor's  Software Engineer                  5.0   90000.0\n",
       "1      F        Master's       Data Analyst                  3.0   65000.0\n",
       "2      M             PhD     Senior Manager                 15.0  150000.0\n",
       "3      F      Bachelor's    Sales Associate                  7.0   60000.0\n",
       "4      M        Master's           Director                 20.0  200000.0"
      ]
     },
     "execution_count": 45,
     "metadata": {},
     "output_type": "execute_result"
    }
   ],
   "source": [
    "salary_data.head()"
   ]
  },
  {
   "cell_type": "code",
   "execution_count": 46,
   "id": "a85df5c7",
   "metadata": {},
   "outputs": [],
   "source": [
    "df_female = salary_data[salary_data[\"Gender\"] == \"F\"]\n",
    "df_male = salary_data[salary_data[\"Gender\"] == \"M\"]"
   ]
  },
  {
   "cell_type": "code",
   "execution_count": 47,
   "id": "049cb136",
   "metadata": {},
   "outputs": [
    {
     "data": {
      "text/html": [
       "<div>\n",
       "<style scoped>\n",
       "    .dataframe tbody tr th:only-of-type {\n",
       "        vertical-align: middle;\n",
       "    }\n",
       "\n",
       "    .dataframe tbody tr th {\n",
       "        vertical-align: top;\n",
       "    }\n",
       "\n",
       "    .dataframe thead th {\n",
       "        text-align: right;\n",
       "    }\n",
       "</style>\n",
       "<table border=\"1\" class=\"dataframe\">\n",
       "  <thead>\n",
       "    <tr style=\"text-align: right;\">\n",
       "      <th></th>\n",
       "      <th>Gender</th>\n",
       "      <th>Education Level</th>\n",
       "      <th>Job Title</th>\n",
       "      <th>Years of Experience</th>\n",
       "      <th>Salary</th>\n",
       "    </tr>\n",
       "  </thead>\n",
       "  <tbody>\n",
       "    <tr>\n",
       "      <th>1</th>\n",
       "      <td>F</td>\n",
       "      <td>Master's</td>\n",
       "      <td>Data Analyst</td>\n",
       "      <td>3.0</td>\n",
       "      <td>65000.0</td>\n",
       "    </tr>\n",
       "    <tr>\n",
       "      <th>3</th>\n",
       "      <td>F</td>\n",
       "      <td>Bachelor's</td>\n",
       "      <td>Sales Associate</td>\n",
       "      <td>7.0</td>\n",
       "      <td>60000.0</td>\n",
       "    </tr>\n",
       "    <tr>\n",
       "      <th>6</th>\n",
       "      <td>F</td>\n",
       "      <td>Master's</td>\n",
       "      <td>Product Manager</td>\n",
       "      <td>12.0</td>\n",
       "      <td>120000.0</td>\n",
       "    </tr>\n",
       "    <tr>\n",
       "      <th>8</th>\n",
       "      <td>F</td>\n",
       "      <td>Bachelor's</td>\n",
       "      <td>Marketing Coordinator</td>\n",
       "      <td>1.0</td>\n",
       "      <td>45000.0</td>\n",
       "    </tr>\n",
       "    <tr>\n",
       "      <th>11</th>\n",
       "      <td>F</td>\n",
       "      <td>Bachelor's</td>\n",
       "      <td>HR Manager</td>\n",
       "      <td>18.0</td>\n",
       "      <td>140000.0</td>\n",
       "    </tr>\n",
       "  </tbody>\n",
       "</table>\n",
       "</div>"
      ],
      "text/plain": [
       "   Gender Education Level              Job Title  Years of Experience  \\\n",
       "1       F        Master's           Data Analyst                  3.0   \n",
       "3       F      Bachelor's        Sales Associate                  7.0   \n",
       "6       F        Master's        Product Manager                 12.0   \n",
       "8       F      Bachelor's  Marketing Coordinator                  1.0   \n",
       "11      F      Bachelor's             HR Manager                 18.0   \n",
       "\n",
       "      Salary  \n",
       "1    65000.0  \n",
       "3    60000.0  \n",
       "6   120000.0  \n",
       "8    45000.0  \n",
       "11  140000.0  "
      ]
     },
     "execution_count": 47,
     "metadata": {},
     "output_type": "execute_result"
    }
   ],
   "source": [
    "df_female.head()"
   ]
  },
  {
   "cell_type": "code",
   "execution_count": 48,
   "id": "4ff17d43",
   "metadata": {},
   "outputs": [
    {
     "data": {
      "text/html": [
       "<div>\n",
       "<style scoped>\n",
       "    .dataframe tbody tr th:only-of-type {\n",
       "        vertical-align: middle;\n",
       "    }\n",
       "\n",
       "    .dataframe tbody tr th {\n",
       "        vertical-align: top;\n",
       "    }\n",
       "\n",
       "    .dataframe thead th {\n",
       "        text-align: right;\n",
       "    }\n",
       "</style>\n",
       "<table border=\"1\" class=\"dataframe\">\n",
       "  <thead>\n",
       "    <tr style=\"text-align: right;\">\n",
       "      <th></th>\n",
       "      <th>Gender</th>\n",
       "      <th>Education Level</th>\n",
       "      <th>Job Title</th>\n",
       "      <th>Years of Experience</th>\n",
       "      <th>Salary</th>\n",
       "    </tr>\n",
       "  </thead>\n",
       "  <tbody>\n",
       "    <tr>\n",
       "      <th>0</th>\n",
       "      <td>M</td>\n",
       "      <td>Bachelor's</td>\n",
       "      <td>Software Engineer</td>\n",
       "      <td>5.0</td>\n",
       "      <td>90000.0</td>\n",
       "    </tr>\n",
       "    <tr>\n",
       "      <th>2</th>\n",
       "      <td>M</td>\n",
       "      <td>PhD</td>\n",
       "      <td>Senior Manager</td>\n",
       "      <td>15.0</td>\n",
       "      <td>150000.0</td>\n",
       "    </tr>\n",
       "    <tr>\n",
       "      <th>4</th>\n",
       "      <td>M</td>\n",
       "      <td>Master's</td>\n",
       "      <td>Director</td>\n",
       "      <td>20.0</td>\n",
       "      <td>200000.0</td>\n",
       "    </tr>\n",
       "    <tr>\n",
       "      <th>5</th>\n",
       "      <td>M</td>\n",
       "      <td>Bachelor's</td>\n",
       "      <td>Marketing Analyst</td>\n",
       "      <td>2.0</td>\n",
       "      <td>55000.0</td>\n",
       "    </tr>\n",
       "    <tr>\n",
       "      <th>7</th>\n",
       "      <td>M</td>\n",
       "      <td>Bachelor's</td>\n",
       "      <td>Sales Manager</td>\n",
       "      <td>4.0</td>\n",
       "      <td>80000.0</td>\n",
       "    </tr>\n",
       "  </tbody>\n",
       "</table>\n",
       "</div>"
      ],
      "text/plain": [
       "  Gender Education Level          Job Title  Years of Experience    Salary\n",
       "0      M      Bachelor's  Software Engineer                  5.0   90000.0\n",
       "2      M             PhD     Senior Manager                 15.0  150000.0\n",
       "4      M        Master's           Director                 20.0  200000.0\n",
       "5      M      Bachelor's  Marketing Analyst                  2.0   55000.0\n",
       "7      M      Bachelor's      Sales Manager                  4.0   80000.0"
      ]
     },
     "execution_count": 48,
     "metadata": {},
     "output_type": "execute_result"
    }
   ],
   "source": [
    "df_male.head()"
   ]
  },
  {
   "cell_type": "code",
   "execution_count": 49,
   "id": "dd97606d",
   "metadata": {},
   "outputs": [
    {
     "data": {
      "text/plain": [
       "(3014, 5)"
      ]
     },
     "execution_count": 49,
     "metadata": {},
     "output_type": "execute_result"
    }
   ],
   "source": [
    "df_female.shape"
   ]
  },
  {
   "cell_type": "code",
   "execution_count": 50,
   "id": "a866e265",
   "metadata": {},
   "outputs": [
    {
     "data": {
      "text/plain": [
       "(3674, 5)"
      ]
     },
     "execution_count": 50,
     "metadata": {},
     "output_type": "execute_result"
    }
   ],
   "source": [
    "df_male.shape"
   ]
  },
  {
   "cell_type": "code",
   "execution_count": 107,
   "id": "a16ea7b2",
   "metadata": {},
   "outputs": [],
   "source": [
    "df_male_avg = df_male.groupby([\"Job Title\", \"Education Level\", \"Years of Experience\"])[\"Salary\"].mean()"
   ]
  },
  {
   "cell_type": "code",
   "execution_count": 101,
   "id": "5f43928f",
   "metadata": {},
   "outputs": [],
   "source": [
    "df_female_avg = df_female.groupby([\"Job Title\", \"Education Level\", \"Years of Experience\"])[\"Salary\"].mean()"
   ]
  },
  {
   "cell_type": "code",
   "execution_count": 109,
   "id": "41b42b08",
   "metadata": {},
   "outputs": [
    {
     "data": {
      "text/plain": [
       "Job Title                 Education Level    Years of Experience\n",
       "Accountant                Bachelor's         4.0                     55000.000000\n",
       "Administrative Assistant  Bachelor's         8.0                     45000.000000\n",
       "                                             10.0                    55000.000000\n",
       "Back end Developer        Bachelor's Degree  1.0                     59349.166667\n",
       "                                             3.0                     81666.666667\n",
       "                                             5.0                     77766.000000\n",
       "                                             10.0                   114776.000000\n",
       "                                             18.0                   155795.000000\n",
       "                                             19.0                   140464.833333\n",
       "                          High School        0.0                     51832.000000\n",
       "                                             1.0                     52807.000000\n",
       "                                             2.0                     62807.000000\n",
       "                          Master's Degree    1.0                     60000.000000\n",
       "                                             2.0                     70000.000000\n",
       "                                             3.0                     90000.000000\n",
       "                                             4.0                     73938.000000\n",
       "                                             5.0                    110000.000000\n",
       "                                             6.0                    130000.000000\n",
       "                                             9.0                    124141.000000\n",
       "                                             10.0                   155000.000000\n",
       "Name: Salary, dtype: float64"
      ]
     },
     "execution_count": 109,
     "metadata": {},
     "output_type": "execute_result"
    }
   ],
   "source": [
    "df_female_avg.head(20)"
   ]
  },
  {
   "cell_type": "code",
   "execution_count": 110,
   "id": "274f8b3d",
   "metadata": {},
   "outputs": [
    {
     "data": {
      "text/plain": [
       "Job Title           Education Level    Years of Experience\n",
       "Account Manager     Bachelor's         5.0                     75000.000000\n",
       "Back end Developer  Bachelor's Degree  1.0                     55467.500000\n",
       "                                       2.0                     70061.166667\n",
       "                                       3.0                     80719.428571\n",
       "                                       4.0                     84074.153846\n",
       "                                       5.0                    100000.000000\n",
       "                                       6.0                    107500.000000\n",
       "                                       8.0                    124208.900000\n",
       "                                       10.0                   116934.714286\n",
       "                                       12.0                   132321.500000\n",
       "                                       14.0                   136449.000000\n",
       "                                       16.0                   137489.000000\n",
       "                                       18.0                   150901.000000\n",
       "                                       23.0                   175966.000000\n",
       "                                       24.0                   178284.000000\n",
       "                                       25.0                   168287.000000\n",
       "                    High School        3.0                     68611.000000\n",
       "                                       4.0                     80127.000000\n",
       "                                       7.0                     95845.000000\n",
       "                    Master's Degree    0.0                     55538.000000\n",
       "Name: Salary, dtype: float64"
      ]
     },
     "execution_count": 110,
     "metadata": {},
     "output_type": "execute_result"
    }
   ],
   "source": [
    "df_male_avg.head(20)"
   ]
  },
  {
   "cell_type": "code",
   "execution_count": 111,
   "id": "2eabf2de",
   "metadata": {},
   "outputs": [],
   "source": [
    "df_male_avg = df_male_avg.reset_index()\n",
    "df_female_avg = df_female_avg.reset_index()"
   ]
  },
  {
   "cell_type": "code",
   "execution_count": 113,
   "id": "e21ad875",
   "metadata": {},
   "outputs": [],
   "source": [
    "df_male_avg = df_male_avg.rename(columns={'Salary': 'Salary_M'})\n",
    "df_female_avg = df_female_avg.rename(columns={'Salary': 'Salary_F'})"
   ]
  },
  {
   "cell_type": "code",
   "execution_count": 115,
   "id": "9e585219",
   "metadata": {},
   "outputs": [],
   "source": [
    "merged = df_male_avg.merge(\n",
    "    df_female_avg,\n",
    "    on=['Job Title', 'Education Level'],\n",
    "    how='inner'\n",
    ")"
   ]
  },
  {
   "cell_type": "code",
   "execution_count": 116,
   "id": "bdcac8f6",
   "metadata": {},
   "outputs": [],
   "source": [
    "merged = merged[\n",
    "    merged['Years of Experience_y'].sub(merged['Years of Experience_x']).abs() <= 1\n",
    "]"
   ]
  },
  {
   "cell_type": "code",
   "execution_count": 117,
   "id": "af2d550b",
   "metadata": {},
   "outputs": [],
   "source": [
    "merged = merged.rename(columns={\n",
    "    'Years of Experience_x': 'Years_Exp_M',\n",
    "    'Years of Experience_y': 'Years_Exp_F'\n",
    "})"
   ]
  },
  {
   "cell_type": "code",
   "execution_count": 118,
   "id": "14cf50fe",
   "metadata": {},
   "outputs": [],
   "source": [
    "merged['Salary_Diff'] = merged['Salary_M'] - merged['Salary_F']"
   ]
  },
  {
   "cell_type": "code",
   "execution_count": 120,
   "id": "dc4fc6e9",
   "metadata": {},
   "outputs": [
    {
     "data": {
      "text/plain": [
       "(545, 7)"
      ]
     },
     "execution_count": 120,
     "metadata": {},
     "output_type": "execute_result"
    }
   ],
   "source": [
    "merged.shape"
   ]
  },
  {
   "cell_type": "code",
   "execution_count": 121,
   "id": "18c23334",
   "metadata": {},
   "outputs": [],
   "source": [
    "entries = []\n",
    "for _, row in merged.iterrows():\n",
    "    entry = f\"\"\"Job Title: {row['Job Title']}\n",
    "Education Level: {row['Education Level']}\n",
    "Experience (Male): {row['Years_Exp_M']}\n",
    "Experience (Female): {row['Years_Exp_F']}\n",
    "Average Male Salary: {row['Salary_M']:.2f}\n",
    "Average Female Salary: {row['Salary_F']:.2f}\n",
    "Difference: {row['Salary_Diff']:.2f}\n",
    "\"\"\"\n",
    "    entries.append(entry)"
   ]
  },
  {
   "cell_type": "code",
   "execution_count": 123,
   "id": "3a3a5035",
   "metadata": {},
   "outputs": [],
   "source": [
    "with open(\"salary_comparison_entries.txt\", \"w\") as f:\n",
    "    for entry in entries:\n",
    "        f.write(entry + \"\\n\\n\")"
   ]
  },
  {
   "cell_type": "code",
   "execution_count": null,
   "id": "a53ba10d",
   "metadata": {},
   "outputs": [],
   "source": []
  }
 ],
 "metadata": {
  "kernelspec": {
   "display_name": "Python 3",
   "language": "python",
   "name": "python3"
  },
  "language_info": {
   "codemirror_mode": {
    "name": "ipython",
    "version": 3
   },
   "file_extension": ".py",
   "mimetype": "text/x-python",
   "name": "python",
   "nbconvert_exporter": "python",
   "pygments_lexer": "ipython3",
   "version": "3.13.3"
  }
 },
 "nbformat": 4,
 "nbformat_minor": 5
}
